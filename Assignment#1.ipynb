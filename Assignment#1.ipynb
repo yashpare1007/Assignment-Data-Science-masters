{
 "cells": [
  {
   "cell_type": "markdown",
   "id": "5678708f",
   "metadata": {},
   "source": [
    "# Q.1 Who developed python programming language?"
   ]
  },
  {
   "cell_type": "markdown",
   "id": "2005c305",
   "metadata": {},
   "source": [
    "### Ans- 'Guido Van Rossum' developed the pyhton programming language"
   ]
  },
  {
   "cell_type": "markdown",
   "id": "e561e7ff",
   "metadata": {},
   "source": [
    "# Q.2 Which type of programming does python support?"
   ]
  },
  {
   "cell_type": "markdown",
   "id": "f903f916",
   "metadata": {},
   "source": [
    "### Ans- Python supports object oriented, functional, procedural and event driven programming models."
   ]
  },
  {
   "cell_type": "markdown",
   "id": "17c5676e",
   "metadata": {},
   "source": [
    "# Q.3 Is python case sensitive while dealing with identifiers?"
   ]
  },
  {
   "cell_type": "markdown",
   "id": "2f82a13b",
   "metadata": {},
   "source": [
    "### Ans. Yes python is case sensitive while dealing with identifiers."
   ]
  },
  {
   "cell_type": "markdown",
   "id": "5be3f44e",
   "metadata": {},
   "source": [
    "# Q.4 What is the correct extension of python file?"
   ]
  },
  {
   "cell_type": "markdown",
   "id": "61d9e15a",
   "metadata": {},
   "source": [
    "### Ans. .py is the correct file extension for python source code"
   ]
  },
  {
   "cell_type": "markdown",
   "id": "5da947d6",
   "metadata": {},
   "source": [
    "# Q.5 Is python code compiled or interpreted?"
   ]
  },
  {
   "cell_type": "markdown",
   "id": "fcfb0460",
   "metadata": {},
   "source": [
    "### Ans. Python is an interpreted language."
   ]
  },
  {
   "cell_type": "markdown",
   "id": "7ace9b12",
   "metadata": {},
   "source": [
    "# Q.6 Name a few blocks of code used to define in python language?"
   ]
  },
  {
   "cell_type": "markdown",
   "id": "75aabb0c",
   "metadata": {},
   "source": [
    "### Ans- The following blocks can be used to define pyhton: a module, a function body, and a class definition"
   ]
  },
  {
   "cell_type": "markdown",
   "id": "7eb4abad",
   "metadata": {},
   "source": [
    "# Q.7 State a character used to give single line comments in python?"
   ]
  },
  {
   "cell_type": "markdown",
   "id": "693112b1",
   "metadata": {},
   "source": [
    "### Ans- '#' character is used to give single line comments in python."
   ]
  },
  {
   "cell_type": "markdown",
   "id": "8dc94a41",
   "metadata": {},
   "source": [
    "# Q.8 Mention functions which can hep to find out the version of python working on?"
   ]
  },
  {
   "cell_type": "markdown",
   "id": "23f767f0",
   "metadata": {},
   "source": [
    "### Ans. 'sys.version' is one of the function to check the version of python working on."
   ]
  },
  {
   "cell_type": "markdown",
   "id": "78804c94",
   "metadata": {},
   "source": [
    "# Q.9 Python supports creation of anonyomous functions at runtime,using a construct called____?"
   ]
  },
  {
   "cell_type": "markdown",
   "id": "6b0d1169",
   "metadata": {},
   "source": [
    "### Ans- Lambda"
   ]
  },
  {
   "cell_type": "markdown",
   "id": "800bfb00",
   "metadata": {},
   "source": [
    "# Q.10 What does pip stand for in python?"
   ]
  },
  {
   "cell_type": "markdown",
   "id": "a5b55df2",
   "metadata": {},
   "source": [
    "### Ans- pip stands for prefrred installer program."
   ]
  },
  {
   "cell_type": "markdown",
   "id": "6231cd99",
   "metadata": {},
   "source": [
    "# Q.11 Mention a few built-in functions of python?"
   ]
  },
  {
   "cell_type": "markdown",
   "id": "db7c91fb",
   "metadata": {},
   "source": [
    "### Ans- Few built-in functions of python are - print(), input(), type() etc."
   ]
  },
  {
   "cell_type": "markdown",
   "id": "c4ccb7d1",
   "metadata": {},
   "source": [
    "# Q.12 What is the maximum possible length of identifier in python?"
   ]
  },
  {
   "cell_type": "markdown",
   "id": "099901a7",
   "metadata": {},
   "source": [
    "### Ans-  An identifier can have a maximum length of 79 characters in Python."
   ]
  },
  {
   "cell_type": "markdown",
   "id": "b0003dd0",
   "metadata": {},
   "source": [
    "# Q.13 What are the benefits of using python?"
   ]
  },
  {
   "cell_type": "markdown",
   "id": "9b22a1a7",
   "metadata": {},
   "source": [
    "### Ans- Some of the benefits of using pyhton are as follows: dynamically typed language, powerful containers, powerful library, simple programs, great support etc"
   ]
  },
  {
   "cell_type": "markdown",
   "id": "7dae98b7",
   "metadata": {},
   "source": [
    "# Q.14 How is memory managed in python?"
   ]
  },
  {
   "cell_type": "markdown",
   "id": "b99c2bb0",
   "metadata": {},
   "source": [
    "### Ans- Memory in Python is managed by Python private heap space. All Python objects and data structures are located in a private heap. This private heap is taken care of by Python Interpreter itself, and a programmer doesn't have access to this private heap."
   ]
  },
  {
   "cell_type": "markdown",
   "id": "e894dd8f",
   "metadata": {},
   "source": [
    "# Q.15 How to install python in windows and set path variables?"
   ]
  },
  {
   "cell_type": "markdown",
   "id": "67d9512b",
   "metadata": {},
   "source": [
    "### Ans- Install python from this link https://www.python.org/downloads/\n",
    "### After this, install it on your PC. Look for the location where PYTHON has been installed on your PC using tge following command on your command prompt: cmd python.\n",
    "### Then go to advanced system settings and add new variable and name it as PYTHON_NAME and paste the copied path.\n",
    "### Then look for the path variable, select it's value and select edit\n",
    "### Add a semicolon towards the end of the value if it's not present and then type %PYTHON_HOME%"
   ]
  },
  {
   "cell_type": "markdown",
   "id": "f798f219",
   "metadata": {},
   "source": [
    " # Q.16 Is indentation reuired in python?"
   ]
  },
  {
   "cell_type": "markdown",
   "id": "726ae11d",
   "metadata": {},
   "source": [
    "### Ans- Yes, Python uses indentation as a block of code."
   ]
  },
  {
   "cell_type": "code",
   "execution_count": null,
   "id": "36c2a672",
   "metadata": {},
   "outputs": [],
   "source": []
  }
 ],
 "metadata": {
  "kernelspec": {
   "display_name": "Python 3 (ipykernel)",
   "language": "python",
   "name": "python3"
  },
  "language_info": {
   "codemirror_mode": {
    "name": "ipython",
    "version": 3
   },
   "file_extension": ".py",
   "mimetype": "text/x-python",
   "name": "python",
   "nbconvert_exporter": "python",
   "pygments_lexer": "ipython3",
   "version": "3.9.13"
  }
 },
 "nbformat": 4,
 "nbformat_minor": 5
}
